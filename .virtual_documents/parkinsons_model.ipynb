!pip install pandas numpy scikit-learn streamlit




import pandas as pd
from sklearn.model_selection import train_test_split
from sklearn.ensemble import RandomForestClassifier
import pickle


df = pd.read_csv("parkinsons.csv")



df.head()


X = df.drop(['name', 'status'], axis=1)  # features
y = df['status']     


X_train, X_test, y_train, y_test = train_test_split(X, y, test_size=0.2, random_state=42)


model = RandomForestClassifier()
model.fit(X_train, y_train)


with open("parkinsons_model.pkl", "wb") as f:
    pickle.dump(model, f)
print("✅ Model saved as 'parkinsons_model.pkl'")



